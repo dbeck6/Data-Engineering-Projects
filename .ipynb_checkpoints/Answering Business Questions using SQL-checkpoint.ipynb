{
 "cells": [
  {
   "cell_type": "markdown",
   "metadata": {
    "collapsed": true
   },
   "source": [
    "# Answering Business Questions using SQL\n",
    "\n",
    "In this project, we will explore the Chinook database which stores data on music purchases for fictional retail record shop. Using a combination of SQL and a few Python libraries (SQLite, pandas, etc.), we will present different findings within the transactions stored within to make informed business decisions based on common retail inquiries.\n",
    "\n",
    "First, let's construct some helper functions to assist in our analysis."
   ]
  },
  {
   "cell_type": "code",
   "execution_count": 1,
   "metadata": {},
   "outputs": [
    {
     "name": "stdout",
     "output_type": "stream",
     "text": [
      "                    name   type\n",
      "0                  album  table\n",
      "1                 artist  table\n",
      "2               customer  table\n",
      "3               employee  table\n",
      "4                  genre  table\n",
      "5                invoice  table\n",
      "6           invoice_line  table\n",
      "7             media_type  table\n",
      "8               playlist  table\n",
      "9         playlist_track  table\n",
      "10                 track  table\n",
      "11  customers_by_country   view\n"
     ]
    }
   ],
   "source": [
    "import sqlite3\n",
    "import pandas as pd\n",
    "\n",
    "def run_query(q):\n",
    "    with sqlite3.connect('chinook.db') as conn:\n",
    "        return pd.read_sql(q, conn)\n",
    "    \n",
    "def run_command(c):\n",
    "    with sqlite3.connect('chinook.db') as conn:\n",
    "        conn.isolation_level = None\n",
    "        return conn.execute(c)\n",
    "\n",
    "def show_tables():\n",
    "    show = '''\n",
    "            SELECT name, type \n",
    "            FROM sqlite_master WHERE type IN (\"table\", \"view\");\n",
    "            '''\n",
    "    print(run_query(show))\n",
    "    \n",
    "show_tables()"
   ]
  },
  {
   "cell_type": "markdown",
   "metadata": {},
   "source": [
    "## Finding the Best Selling Genres in USA\n",
    "\n",
    "A record label has asked us to advertise four of their newest American artists' releases in our stores in the USA. The artists are labeled by the following genres: *Blues, Hip-Hop, Pop,* and *Punk*. Since the budget provided by the label is not going to cover all four artists, our goal is to evaluate which genres sell best in that market and select three of the artists based on their likelyhood to sell records."
   ]
  },
  {
   "cell_type": "code",
   "execution_count": 2,
   "metadata": {},
   "outputs": [
    {
     "name": "stdout",
     "output_type": "stream",
     "text": [
      "    total               genre\n",
      "0     561                Rock\n",
      "1     130  Alternative & Punk\n",
      "2     124               Metal\n",
      "3      53            R&B/Soul\n",
      "4      36               Blues\n",
      "5      35         Alternative\n",
      "6      22               Latin\n",
      "7      22                 Pop\n",
      "8      20         Hip Hop/Rap\n",
      "9      14                Jazz\n",
      "10     13      Easy Listening\n",
      "11      6              Reggae\n",
      "12      5   Electronica/Dance\n",
      "13      4           Classical\n",
      "14      3         Heavy Metal\n",
      "15      2          Soundtrack\n",
      "16      1            TV Shows\n"
     ]
    }
   ],
   "source": [
    "genre_sales_usa = '''\n",
    "                WITH track_sales_usa AS \n",
    "                ( \n",
    "                    SELECT il.track_id, il.quantity units_sold, billing_country \n",
    "                    FROM invoice_line il \n",
    "                    INNER JOIN invoice i ON il.invoice_id = i.invoice_id \n",
    "                    WHERE billing_country = 'USA' \n",
    "                ), \n",
    "                tracks_genre AS\n",
    "                ( \n",
    "                    SELECT u.track_id, u.units_sold, t.genre_id, g.name genre \n",
    "                    FROM track_sales_usa u \n",
    "                    INNER JOIN track t ON u.track_id = t.track_id \n",
    "                    INNER JOIN genre g ON g.genre_id = t.genre_id \n",
    "                ) \n",
    "                SELECT COUNT(units_sold) total, genre FROM tracks_genre \n",
    "                GROUP BY genre \n",
    "                ORDER BY total DESC;\n",
    "                '''\n",
    "print(run_query(genre_sales_usa))"
   ]
  },
  {
   "cell_type": "markdown",
   "metadata": {},
   "source": [
    "It appears that of the four genres we are interested in, the top three sellers are *Punk* (130), *Blues* (36) and *Pop* (22). *Hip-Hop* (20) was the least so it would likely be a safer bet to not feature the artist that plays in that genre.\n",
    "\n",
    "## Exploring Employee Sales\n",
    "\n",
    "Each customer for the Chinook store gets assigned to a sales support agent within the company when they first make a purchase. We want to analyze the purchases of customers belonging to each employee to see if any sales support agent is performing either better or worse than their peers.\n",
    "\n",
    "It may be possible that there are other factors that influence the relative sales of each employee. Let's consider whether any extra columns from the employee table may explain any variance seen, or whether the variance might instead be indicative of employee performance. It stands to reason that hire date would impact an employee's overall sales to date, so that data will be extracted with our query."
   ]
  },
  {
   "cell_type": "code",
   "execution_count": 3,
   "metadata": {},
   "outputs": [
    {
     "name": "stdout",
     "output_type": "stream",
     "text": [
      "            name  total_sales            hire_date\n",
      "0   Jane Peacock      1731.51  2017-04-01 00:00:00\n",
      "1  Margaret Park      1584.00  2017-05-03 00:00:00\n",
      "2  Steve Johnson      1393.92  2017-10-17 00:00:00\n"
     ]
    }
   ],
   "source": [
    "employee_sales = '''\n",
    "                WITH total_sales AS \n",
    "                ( \n",
    "                    SELECT c.support_rep_id employee_id, SUM(i.total) total_sales \n",
    "                    FROM invoice i \n",
    "                    INNER JOIN customer c ON c.customer_id = i.customer_id \n",
    "                    GROUP BY employee_id \n",
    "                ) \n",
    "                SELECT e.first_name || ' ' || e.last_name name,\n",
    "                        t.total_sales,\n",
    "                        e.hire_date\n",
    "                FROM employee e\n",
    "                INNER JOIN total_sales t ON e.employee_id = t.employee_id\n",
    "                ORDER BY t.total_sales DESC;\n",
    "                '''\n",
    "print(run_query(employee_sales))"
   ]
  },
  {
   "cell_type": "markdown",
   "metadata": {},
   "source": [
    "As hypothesized, total sales is positively correlated with the amount of time an employee has been working with the earliest hire, Jane Peacock, having the highest total sales ($1,731.51).\n",
    "\n",
    "## Analyzing Customer Sales by Country\n",
    "\n",
    "We have been tasked with calculating the following data on our customers by country of origin:\n",
    "\n",
    "- total number of customers\n",
    "- total value of sales\n",
    "- average value of sales per customers\n",
    "- average order value\n",
    "\n",
    "It is known that some countries have only one customer and as such will be grouped together as \"Other\" for our analysis. To do this, we will create a view to facilitate exploration of the data. By assigning adding another column, `Other`, to indicate which countries have more than one customer (1) and which only have one (0), we can use this column to group and sort more easily."
   ]
  },
  {
   "cell_type": "code",
   "execution_count": 4,
   "metadata": {},
   "outputs": [
    {
     "data": {
      "text/plain": [
       "<sqlite3.Cursor at 0x7fdc8e55fce0>"
      ]
     },
     "execution_count": 4,
     "metadata": {},
     "output_type": "execute_result"
    }
   ],
   "source": [
    "d = 'DROP VIEW customers_by_country;'\n",
    "run_command(d)\n",
    "q = '''\n",
    "    CREATE VIEW customers_by_country AS\n",
    "    SELECT \n",
    "        COUNT(customer_id) cust_count,\n",
    "        country,\n",
    "        CASE\n",
    "            WHEN COUNT(customer_id) > 1 THEN 1\n",
    "            ELSE 0\n",
    "        END as other\n",
    "    FROM customer\n",
    "    GROUP BY country;\n",
    "    '''\n",
    "run_command(q)"
   ]
  },
  {
   "cell_type": "code",
   "execution_count": 5,
   "metadata": {},
   "outputs": [
    {
     "name": "stdout",
     "output_type": "stream",
     "text": [
      "    cust_count         country  other\n",
      "0            1       Argentina      0\n",
      "1            1       Australia      0\n",
      "2            1         Austria      0\n",
      "3            1         Belgium      0\n",
      "4            5          Brazil      1\n",
      "5            8          Canada      1\n",
      "6            1           Chile      0\n",
      "7            2  Czech Republic      1\n",
      "8            1         Denmark      0\n",
      "9            1         Finland      0\n",
      "10           5          France      1\n",
      "11           4         Germany      1\n",
      "12           1         Hungary      0\n",
      "13           2           India      1\n",
      "14           1         Ireland      0\n",
      "15           1           Italy      0\n",
      "16           1     Netherlands      0\n",
      "17           1          Norway      0\n",
      "18           1          Poland      0\n",
      "19           2        Portugal      1\n",
      "20           1           Spain      0\n",
      "21           1          Sweden      0\n",
      "22          13             USA      1\n",
      "23           3  United Kingdom      1\n"
     ]
    }
   ],
   "source": [
    "print(run_query('SELECT * FROM customers_by_country;'))"
   ]
  },
  {
   "cell_type": "markdown",
   "metadata": {},
   "source": [
    "Let's first look at all individually countries in our data set to see our target values sorted by `Other`:"
   ]
  },
  {
   "cell_type": "code",
   "execution_count": 6,
   "metadata": {},
   "outputs": [
    {
     "name": "stdout",
     "output_type": "stream",
     "text": [
      "           country  cust_count  total_sales  avg_sales_per_cust  \\\n",
      "0          Denmark           1        37.62           37.620000   \n",
      "1        Argentina           1        39.60           39.600000   \n",
      "2            Italy           1        50.49           50.490000   \n",
      "3          Belgium           1        60.39           60.390000   \n",
      "4      Netherlands           1        65.34           65.340000   \n",
      "5          Austria           1        69.30           69.300000   \n",
      "6           Norway           1        72.27           72.270000   \n",
      "7           Sweden           1        75.24           75.240000   \n",
      "8           Poland           1        76.23           76.230000   \n",
      "9          Hungary           1        78.21           78.210000   \n",
      "10         Finland           1        79.20           79.200000   \n",
      "11       Australia           1        81.18           81.180000   \n",
      "12           Chile           1        97.02           97.020000   \n",
      "13           Spain           1        98.01           98.010000   \n",
      "14         Ireland           1       114.84          114.840000   \n",
      "15           India           2       183.15           91.575000   \n",
      "16        Portugal           2       185.13           92.565000   \n",
      "17  United Kingdom           3       245.52           81.840000   \n",
      "18  Czech Republic           2       273.24          136.620000   \n",
      "19         Germany           4       334.62           83.655000   \n",
      "20          France           5       389.07           77.814000   \n",
      "21          Brazil           5       427.68           85.536000   \n",
      "22          Canada           8       535.59           66.948750   \n",
      "23             USA          13      1040.49           80.037692   \n",
      "\n",
      "    avg_order_val  other  \n",
      "0        3.762000      0  \n",
      "1        7.920000      0  \n",
      "2        5.610000      0  \n",
      "3        8.627143      0  \n",
      "4        6.534000      0  \n",
      "5        7.700000      0  \n",
      "6        8.030000      0  \n",
      "7        7.524000      0  \n",
      "8        7.623000      0  \n",
      "9        7.821000      0  \n",
      "10       7.200000      0  \n",
      "11       8.118000      0  \n",
      "12       7.463077      0  \n",
      "13       8.910000      0  \n",
      "14       8.833846      0  \n",
      "15       8.721429      1  \n",
      "16       6.383793      1  \n",
      "17       8.768571      1  \n",
      "18       9.108000      1  \n",
      "19       8.161463      1  \n",
      "20       7.781400      1  \n",
      "21       7.011148      1  \n",
      "22       7.047237      1  \n",
      "23       7.942672      1  \n"
     ]
    }
   ],
   "source": [
    "customer_sales = '''\n",
    "                    SELECT \n",
    "                        country,\n",
    "                        cust_count,\n",
    "                        total_sales,\n",
    "                        avg_sales_per_cust,\n",
    "                        avg_order_val,\n",
    "                        other\n",
    "                    FROM\n",
    "                        (\n",
    "                        SELECT \n",
    "                            cbc.*,\n",
    "                            SUM(i.total) total_sales,\n",
    "                            CAST(SUM(i.total) as Float) / CAST(COUNT(DISTINCT(c.customer_id)) as Float) avg_sales_per_cust,\n",
    "                            AVG(i.total) avg_order_val,\n",
    "                            CASE\n",
    "                                WHEN cbc.other = 1 THEN 1\n",
    "                                ELSE 0\n",
    "                            END AS other\n",
    "                        FROM customers_by_country cbc\n",
    "                        INNER JOIN customer c ON cbc.country = c.country\n",
    "                        INNER JOIN invoice i ON i.customer_id = c.customer_id\n",
    "                        GROUP BY c.country\n",
    "                        )\n",
    "                    ORDER BY total_sales, other ASC;\n",
    "                '''\n",
    "print(run_query(customer_sales))"
   ]
  },
  {
   "cell_type": "markdown",
   "metadata": {},
   "source": [
    "Now for a more complex query to aggregate all countries with only a single customer into one row for evaluation. We will sort the resulting query by both the `Other` column and `Total_Sales` in descending order:"
   ]
  },
  {
   "cell_type": "code",
   "execution_count": 7,
   "metadata": {},
   "outputs": [
    {
     "name": "stdout",
     "output_type": "stream",
     "text": [
      "          country  cust_count  total_sales  avg_sales_per_cust  avg_order_val  \\\n",
      "0             USA          13      1040.49           80.037692       7.942672   \n",
      "1          Canada           8       535.59           66.948750       7.047237   \n",
      "2          Brazil           5       427.68           85.536000       7.011148   \n",
      "3          France           5       389.07           77.814000       7.781400   \n",
      "4         Germany           4       334.62           83.655000       8.161463   \n",
      "5  Czech Republic           2       273.24          136.620000       9.108000   \n",
      "6  United Kingdom           3       245.52           81.840000       8.768571   \n",
      "7        Portugal           2       185.13           92.565000       6.383793   \n",
      "8           India           2       183.15           91.575000       8.721429   \n",
      "9           Other          15      1094.94           72.996000     109.494000   \n",
      "\n",
      "   other  \n",
      "0      1  \n",
      "1      1  \n",
      "2      1  \n",
      "3      1  \n",
      "4      1  \n",
      "5      1  \n",
      "6      1  \n",
      "7      1  \n",
      "8      1  \n",
      "9      0  \n"
     ]
    }
   ],
   "source": [
    "customer_sales = '''\n",
    "SELECT \n",
    "    country,\n",
    "    cust_count,\n",
    "    total_sales,\n",
    "    avg_sales_per_cust,\n",
    "    avg_order_val,\n",
    "    other\n",
    "FROM\n",
    "    (\n",
    "    SELECT \n",
    "        cbc.*,\n",
    "        SUM(i.total) total_sales,\n",
    "        CAST(SUM(i.total) as Float) / CAST(COUNT(DISTINCT(c.customer_id)) as Float) avg_sales_per_cust,\n",
    "        AVG(i.total) avg_order_val\n",
    "    FROM customers_by_country cbc\n",
    "    INNER JOIN customer c ON cbc.country = c.country\n",
    "    INNER JOIN invoice i ON i.customer_id = c.customer_id\n",
    "    WHERE c.country IN (SELECT country FROM customers_by_country WHERE other = 1)\n",
    "    GROUP BY c.country\n",
    "    )\n",
    "\n",
    "UNION\n",
    "\n",
    "SELECT \n",
    "    CASE\n",
    "        WHEN other = 0 THEN 'Other'\n",
    "        ELSE NULL\n",
    "    END AS country,\n",
    "    SUM(cust_count) cust_count,\n",
    "    SUM(total_sales) total_sales,\n",
    "    CAST(SUM(total_sales) as Float) / CAST(SUM(cust_count) as Float) avg_sales_per_cust,\n",
    "    CAST(SUM(total_sales) as Float) / c_count avg_order_val,\n",
    "    other\n",
    "FROM\n",
    "    (\n",
    "    SELECT \n",
    "        cbc.*,\n",
    "        SUM(i.total) total_sales,\n",
    "        CAST(SUM(i.total) as Float) / CAST(COUNT(DISTINCT(c.customer_id)) as Float) avg_sales_per_cust,\n",
    "        AVG(i.total) avg_order_val,\n",
    "        COUNT(c.customer_id) c_count\n",
    "    FROM customers_by_country cbc\n",
    "    INNER JOIN customer c ON cbc.country = c.country\n",
    "    INNER JOIN invoice i ON i.customer_id = c.customer_id\n",
    "    WHERE c.country IN (SELECT country FROM customers_by_country WHERE other = 0)\n",
    "    GROUP BY c.country\n",
    "    )\n",
    "\n",
    "ORDER BY other DESC, total_sales DESC;\n",
    "'''\n",
    "\n",
    "print(run_query(customer_sales))"
   ]
  },
  {
   "cell_type": "markdown",
   "metadata": {},
   "source": [
    "Given the resulting figures of aggregating our \"Other\" group, it would benefit our marketing team to focus their efforts on applying their budgets in such a way to capture more sales in markets where we have few customers. Clearly there is demand in these regions that could be untapped and further push the total sales overall.\n",
    "\n",
    "## Sales by Individual Tracks vs Whole Albums\n",
    "\n",
    "In order to cut cost on our purchasing strategy, our company is considering purchasing only the most popular tracks instead of whole albums. We have been tasked with find what percentage of purchases are individual tracks vs whole albums. Since tracks are purchased as line items in each transaction, we must determine which invoices contain whole albums."
   ]
  },
  {
   "cell_type": "code",
   "execution_count": 8,
   "metadata": {},
   "outputs": [
    {
     "data": {
      "text/html": [
       "<div>\n",
       "<style scoped>\n",
       "    .dataframe tbody tr th:only-of-type {\n",
       "        vertical-align: middle;\n",
       "    }\n",
       "\n",
       "    .dataframe tbody tr th {\n",
       "        vertical-align: top;\n",
       "    }\n",
       "\n",
       "    .dataframe thead th {\n",
       "        text-align: right;\n",
       "    }\n",
       "</style>\n",
       "<table border=\"1\" class=\"dataframe\">\n",
       "  <thead>\n",
       "    <tr style=\"text-align: right;\">\n",
       "      <th></th>\n",
       "      <th>album_purchase</th>\n",
       "      <th>number_of_invoices</th>\n",
       "      <th>percent</th>\n",
       "    </tr>\n",
       "  </thead>\n",
       "  <tbody>\n",
       "    <tr>\n",
       "      <th>0</th>\n",
       "      <td>no</td>\n",
       "      <td>500</td>\n",
       "      <td>0.814332</td>\n",
       "    </tr>\n",
       "    <tr>\n",
       "      <th>1</th>\n",
       "      <td>yes</td>\n",
       "      <td>114</td>\n",
       "      <td>0.185668</td>\n",
       "    </tr>\n",
       "  </tbody>\n",
       "</table>\n",
       "</div>"
      ],
      "text/plain": [
       "  album_purchase  number_of_invoices   percent\n",
       "0             no                 500  0.814332\n",
       "1            yes                 114  0.185668"
      ]
     },
     "execution_count": 8,
     "metadata": {},
     "output_type": "execute_result"
    }
   ],
   "source": [
    "albums_vs_tracks = '''\n",
    "WITH invoice_first_track AS\n",
    "(\n",
    " SELECT\n",
    "     il.invoice_id invoice_id,\n",
    "     MIN(il.track_id) first_track_id\n",
    " FROM invoice_line il\n",
    " GROUP BY 1\n",
    ")\n",
    "\n",
    "SELECT\n",
    "album_purchase,\n",
    "COUNT(invoice_id) number_of_invoices,\n",
    "CAST(count(invoice_id) AS FLOAT) / (\n",
    "                                     SELECT COUNT(*) FROM invoice\n",
    "                                  ) percent\n",
    "FROM\n",
    "(\n",
    "SELECT\n",
    "    ifs.*,\n",
    "    CASE\n",
    "        WHEN\n",
    "             (\n",
    "              SELECT t.track_id FROM track t\n",
    "              WHERE t.album_id = (\n",
    "                                  SELECT t2.album_id FROM track t2\n",
    "                                  WHERE t2.track_id = ifs.first_track_id\n",
    "                                 ) \n",
    "\n",
    "              EXCEPT \n",
    "\n",
    "              SELECT il2.track_id FROM invoice_line il2\n",
    "              WHERE il2.invoice_id = ifs.invoice_id\n",
    "             ) IS NULL\n",
    "         AND\n",
    "             (\n",
    "              SELECT il2.track_id FROM invoice_line il2\n",
    "              WHERE il2.invoice_id = ifs.invoice_id\n",
    "\n",
    "              EXCEPT \n",
    "\n",
    "              SELECT t.track_id FROM track t\n",
    "              WHERE t.album_id = (\n",
    "                                  SELECT t2.album_id FROM track t2\n",
    "                                  WHERE t2.track_id = ifs.first_track_id\n",
    "                                 ) \n",
    "             ) IS NULL\n",
    "         THEN \"yes\"\n",
    "         ELSE \"no\"\n",
    "     END AS \"album_purchase\"\n",
    " FROM invoice_first_track ifs\n",
    ")\n",
    "GROUP BY album_purchase;\n",
    "'''\n",
    "\n",
    "run_query(albums_vs_tracks)"
   ]
  },
  {
   "cell_type": "markdown",
   "metadata": {},
   "source": [
    "Considering our findings demonstrate that the vast majority of invoices (81.5%) involve sales of individual tracks vs whole album purchases (18.5%), it would be a wise move to cut costs and purchase only the most popular tracks from albums going forward."
   ]
  }
 ],
 "metadata": {
  "kernelspec": {
   "display_name": "Python 3",
   "language": "python",
   "name": "python3"
  },
  "language_info": {
   "codemirror_mode": {
    "name": "ipython",
    "version": 3
   },
   "file_extension": ".py",
   "mimetype": "text/x-python",
   "name": "python",
   "nbconvert_exporter": "python",
   "pygments_lexer": "ipython3",
   "version": "3.8.1"
  }
 },
 "nbformat": 4,
 "nbformat_minor": 2
}
